{
  "nbformat": 4,
  "nbformat_minor": 0,
  "metadata": {
    "colab": {
      "name": "Physics_Units.ipynb",
      "provenance": [],
      "collapsed_sections": [],
      "toc_visible": true,
      "authorship_tag": "ABX9TyOsCjWWw6eQwe9iMXM+3g3K",
      "include_colab_link": true
    },
    "kernelspec": {
      "name": "python3",
      "display_name": "Python 3"
    }
  },
  "cells": [
    {
      "cell_type": "markdown",
      "metadata": {
        "id": "view-in-github",
        "colab_type": "text"
      },
      "source": [
        "<a href=\"https://colab.research.google.com/github/laserchemist/python_for_science/blob/master/Physics_Units.ipynb\" target=\"_parent\"><img src=\"https://colab.research.google.com/assets/colab-badge.svg\" alt=\"Open In Colab\"/></a>"
      ]
    },
    {
      "cell_type": "markdown",
      "metadata": {
        "id": "p4CVTepLN4ZN",
        "colab_type": "text"
      },
      "source": [
        "#Physics and Physical Measurement\n",
        "\n",
        "#### 1. Units\n",
        "\n",
        "#### 2. Electromagnetic waves and light\n",
        "***\n",
        "Units are based off fundamental measures including:\n",
        "* length: meter (m)\n",
        "* time: second (s)\n",
        "* mass: kilogram (kg)\n",
        "* electric charge: coulomb (C)\n",
        "\n",
        "We can then derive:\n",
        "* velocity: meter/second (${m \\cdot s^{-1}}$)\n",
        "* acceleration: meter second${^{-2}}$ (${m \\cdot s^{-2}}$)\n",
        "* force: Newton, N (${kg \\cdot m \\cdot s^{-2}}$)\n",
        "* energy: Joule, J (${kg \\cdot m^{2} \\cdot s^{-2}}$)\n",
        "* power: Watt, W  ${(\\frac{J}{s}=\\frac{N \\cdot m}{s}=V \\cdot A)}$\n",
        "* pressure: Pascal, Pa ${(\\frac{N}{m^2}=\\frac{kg}{m \\cdot s^2}})$\n",
        "* charge of electron: ${e = 1.602 \\times 10^{-19}}$ coulombs\n",
        "* electrical current: ampere, A (${c \\cdot s^{-1}}$)\n",
        "* electric potential: volt, V $({\\frac{potential\\:energy}{charge}=\\frac{J}{c}=\\frac{kg \\cdot m^{2}}{A \\cdot s^{3}}})$\n",
        "\n",
        "Energy can be expressed in numerous ways often suited to the problem at hand or area of inquiry:\n",
        "* energy: calorie (1 calorie = 4.184 J) Energy to warm 1 g of liquid water 1 $^{\\circ}$C.\n",
        "* energy: kcal (1 kcal = 1000 calorie = 4184 J)\n",
        "* energy: british thermal unit, btu (1 btu = 1055 J) amount of energy to raise the temperature of 1 pound of water 1 $^{\\circ}$F.\n",
        "***\n",
        "#### Prefixes\n",
        "These prefixes are added to s.i. units to change their order of magnitude. As an example we will use base unit of meter (m) below.\n",
        "\n",
        "|prefix | power of 10 | example|abreviation|\n",
        "|---|---|---|---|\n",
        "|pico|${10^{-12}}$|picometer |pm|\n",
        "|nano|${10^{-9}}$|nanometer |nm|\n",
        "|micro|${10^{-6}}$|micrometer |${\\mu}$m|\n",
        "|milli|${10^{-3}}$|millimeter |mm|\n",
        "|centi|${10^{-2}}$|centimeter |cm|\n",
        "|deci|${10^{-1}}$|decimeter |dm|\n",
        "|deca|${10^{+1}}$|decameter |dam|\n",
        "|hecta|${10^{+2}}$|hectameter |Hm|\n",
        "|kilo|${10^{+3}}$|kilometer |km|\n",
        "\n",
        "***\n",
        "####Physical Constants\n",
        "* Avogadro's number, ${N_A = 6.022 \\times 10^{23}\\frac{1}{mole}}$\n",
        "* speed of light, ${c = 2.99 792 458  \\times 10^{8} \\;m\\cdot s}$\n",
        "* Planck's Constant, ${h = 6.62607004 \\times 10^{-34} J\\cdot s}$\n",
        "***\n",
        "\n",
        "\n",
        "\n",
        "\n",
        "\n"
      ]
    },
    {
      "cell_type": "code",
      "metadata": {
        "id": "-KK1CVqbsKEM",
        "colab_type": "code",
        "outputId": "99da0afa-52ea-4b49-cb22-423b9bb4ee0c",
        "colab": {
          "base_uri": "https://localhost:8080/",
          "height": 136
        }
      },
      "source": [
        "# Demonstration of use of constants in Python\n",
        "import scipy.constants as constants # Import latest constants CODATA 2018\n",
        "print(constants.pi)\n",
        "print(f\"Avogadros number: {constants.Avogadro:.5e} 1/mole\") # Use \"f\" formatting to print in scientific notation\n",
        "print(f\"Speed of light: {constants.c:.5e} m/s\") # Use \"f\" formatting to print in scientific notation format in m/s.\n",
        "print(f\"Planck's constant: {constants.h:.5e} J s\") \n",
        "print(f\"Electron mass: {constants.electron_mass:.5e} kg\") \n",
        "print(f\"Proton mass: {constants.proton_mass:.5e} kg\") \n",
        "print(f\"Atomic mass unit: {constants.atomic_mass:.5e} kg\") "
      ],
      "execution_count": 0,
      "outputs": [
        {
          "output_type": "stream",
          "text": [
            "3.141592653589793\n",
            "Avogadros number: 6.02214e+23 1/mole\n",
            "Speed of light: 2.99792e+08 m/s\n",
            "Planck's constant: 6.62607e-34 J s\n",
            "Electron mass: 9.10938e-31 kg\n",
            "Proton mass: 1.67262e-27 kg\n",
            "Atomic mass unit: 1.66054e-27 kg\n"
          ],
          "name": "stdout"
        }
      ]
    },
    {
      "cell_type": "markdown",
      "metadata": {
        "id": "7pEsQwUvlBm4",
        "colab_type": "text"
      },
      "source": [
        "###Examples using above constants in calculations in Python"
      ]
    },
    {
      "cell_type": "code",
      "metadata": {
        "id": "LNXW6JHdk_mU",
        "colab_type": "code",
        "outputId": "81a5ae52-b01d-46c3-a101-713497174cf3",
        "colab": {
          "base_uri": "https://localhost:8080/",
          "height": 51
        }
      },
      "source": [
        "massCO2 = 12.011*constants.atomic_mass + 2*15.994*constants.atomic_mass\n",
        "print(f\"Mass of single CO2 molecule: {massCO2:.3e} kg\\nMass of one mole of CO2 molecules: {massCO2*constants.Avogadro:.3f} kg\")"
      ],
      "execution_count": 0,
      "outputs": [
        {
          "output_type": "stream",
          "text": [
            "Mass of single CO2 molecule: 7.306e-26 kg\n",
            "Mass of one mole of CO2 molecules:0.044 kg\n"
          ],
          "name": "stdout"
        }
      ]
    },
    {
      "cell_type": "markdown",
      "metadata": {
        "id": "5LV2vo608NF1",
        "colab_type": "text"
      },
      "source": [
        "### Further calculations\n",
        "***\n",
        "#### Electromagnetic radiation\n",
        "Light propagates through space at the speed of light as an electromagnetic wave. This wave has an oscillating electrical and magnetic components at right angles. The rate of oscillation is the frequency and the distance betweeen peaks in the oscillating wave is the wavelength. Visible light has a wavelength between 400 nanometer and 800 nanometer (nm). The relationship between wavelength ${(\\lambda)}$ and frequency ${(\\nu)}$ is:\n",
        "\n",
        "${\\nu=}\\frac{c}{\\lambda}$\n",
        "\n",
        "What is the frequency of a green $\\color{green}{532\\; nm}$ light wave?\n",
        "***\n"
      ]
    },
    {
      "cell_type": "code",
      "metadata": {
        "id": "EMZCj_kFMK93",
        "colab_type": "code",
        "colab": {
          "base_uri": "https://localhost:8080/",
          "height": 51
        },
        "outputId": "234a9ba3-1de9-46e5-fcdd-1d7c1f8684ed"
      },
      "source": [
        "nu = constants.c /(532 * 10**(-9))\n",
        "print(f\"Wave property 532 nm\\nFrequency (s^-1): {nu:.4e}\")"
      ],
      "execution_count": 12,
      "outputs": [
        {
          "output_type": "stream",
          "text": [
            "Wave property 532 nm\n",
            "Frequency (s^-1): 5.6352e+14\n"
          ],
          "name": "stdout"
        }
      ]
    },
    {
      "cell_type": "markdown",
      "metadata": {
        "id": "cfm5s4NXMVbn",
        "colab_type": "text"
      },
      "source": [
        "####Wavelength"
      ]
    },
    {
      "cell_type": "code",
      "metadata": {
        "id": "FIEybchMMdrH",
        "colab_type": "code",
        "colab": {
          "base_uri": "https://localhost:8080/",
          "height": 309
        },
        "outputId": "3011f564-bc44-48e2-cc0b-037280ca2de3"
      },
      "source": [
        "import matplotlib.pyplot as plot # Plot library\n",
        "import numpy as np # Vector and matrix math library\n",
        "xm = np.linspace(0,1000,100)\n",
        "wave1 = np.sin(2*np.pi*xm * 1/532)\n",
        "wave2 = np.sin(2*np.pi*xm * 1/700)\n",
        "fig,axs=plot.subplots(2,1)\n",
        "axs[0].plot(xm,wave1, 'g', label='532 nm')\n",
        "axs[1].plot(xm,wave2, 'r', label='700 nm')\n",
        "axs[1].set_xlabel('nm')\n",
        "fig.legend()\n",
        "fig.show()"
      ],
      "execution_count": 27,
      "outputs": [
        {
          "output_type": "display_data",
          "data": {
            "image/png": "[encoded data removed]",
            "text/plain": [
              "<Figure size 432x288 with 2 Axes>"
            ]
          },
          "metadata": {
            "tags": [],
            "needs_background": "light"
          }
        }
      ]
    },
    {
      "cell_type": "markdown",
      "metadata": {
        "id": "iEvdl87EMLpt",
        "colab_type": "text"
      },
      "source": [
        "#### Particle-wave duality\n",
        "The above wave theory of light explains many physical observations and phenomona and thus is a good model for describing these properties of light. However, there are some observations which are not consistent with the wave theory including the photoelectric effect where light with a frequency higher than a threshold can knock electrons from the surface of a metal. This occurs above the threshold frequency for any intensity of light but below the threshold frequency even intense light will not knock out a single electron. This can only explain as Einstein did in a 1905 paper as light having a particle manifestation labelled as a $\\color{blue}{photon}$ with energy proportional to the frequency and inversely proportional to the wavelength. This 1905 paper earned Einstein the [1921 Nobel prize](https://www.nobelprize.org/prizes/physics/1921/summary/) in physics.\n",
        "\n",
        "${E_{photon}=}\\frac{h \\cdot c}{\\lambda}$"
      ]
    },
    {
      "cell_type": "code",
      "metadata": {
        "id": "0FDbo7woAIrt",
        "colab_type": "code",
        "outputId": "a30c159a-748b-49a3-e953-5381ea8ef909",
        "colab": {
          "base_uri": "https://localhost:8080/",
          "height": 153
        }
      },
      "source": [
        "nu = constants.c /(532 * 10**(-9))\n",
        "print(f\"Wave property 532 nm\\nFrequency (s^-1): {nu:.4e}\")\n",
        "#\n",
        "## Compute photon energy of 532 nm in Joules\n",
        "E = constants.h * constants.c /(532 * 10**(-9))\n",
        "print(f\"\\nParticle property 532 nm\\nPhoton energy for a {nu:.4e} s^-1 frequency photon: {E:.4e} (J) \")\n",
        "## Compute photon energy of 700 nm in Joules\n",
        "nu = constants.c /(700 * 10**(-9))\n",
        "E = constants.h * constants.c /(700 * 10**(-9))\n",
        "print(f\"\\nParticle property 700 nm\\nPhoton energy for a {nu:.4e} s^-1 frequency photon: {E:.4e} (J) \")"
      ],
      "execution_count": 13,
      "outputs": [
        {
          "output_type": "stream",
          "text": [
            "Wave property 532 nm\n",
            "Frequency (s^-1): 5.6352e+14\n",
            "\n",
            "Particle property 532 nm\n",
            "Photon energy for a 5.6352e+14 s^-1 frequency photon: 3.7339e-19 (J) \n",
            "\n",
            "Particle property 700 nm\n",
            "Photon energy for a 4.2827e+14 s^-1 frequency photon: 2.8378e-19 (J) \n"
          ],
          "name": "stdout"
        }
      ]
    }
  ]
}