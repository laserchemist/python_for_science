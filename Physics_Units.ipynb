{
  "nbformat": 4,
  "nbformat_minor": 0,
  "metadata": {
    "colab": {
      "name": "Physics_Units.ipynb",
      "provenance": [],
      "collapsed_sections": [],
      "authorship_tag": "ABX9TyMN3k/EfTq38FYCUhQoMNAd",
      "include_colab_link": true
    },
    "kernelspec": {
      "name": "python3",
      "display_name": "Python 3"
    }
  },
  "cells": [
    {
      "cell_type": "markdown",
      "metadata": {
        "id": "view-in-github",
        "colab_type": "text"
      },
      "source": [
        "<a href=\"https://colab.research.google.com/github/laserchemist/python_for_science/blob/master/Physics_Units.ipynb\" target=\"_parent\"><img src=\"https://colab.research.google.com/assets/colab-badge.svg\" alt=\"Open In Colab\"/></a>"
      ]
    },
    {
      "cell_type": "markdown",
      "metadata": {
        "id": "p4CVTepLN4ZN",
        "colab_type": "text"
      },
      "source": [
        "#Physics and Physical Measurement\n",
        "#### 1. Errors and Uncertainty\n",
        "\n",
        "#### 2. Uncertainties\n",
        "\n",
        "#### 3. Units\n",
        "***\n",
        "Units are based off fundamental measures including:\n",
        "* length: meter (m)\n",
        "* time: second (s)\n",
        "* mass: kilogram (kg)\n",
        "* electric charge: coulomb (C)\n",
        "\n",
        "We can then derive:\n",
        "* velocity: meter/second (${m \\cdot s^{-1}}$)\n",
        "* acceleration: meter second${^{-2}}$ (${m \\cdot s^{-2}}$)\n",
        "* force: Newton, N (${kg \\cdot m \\cdot s^{-2}}$)\n",
        "* energy: Joule, J (${kg \\cdot m^{2} \\cdot s^{-2}}$)\n",
        "* power: Watt, W  ${(\\frac{J}{s}=\\frac{N \\cdot m}{s}=V \\cdot A)}$\n",
        "* pressure: Pascal, Pa ${(\\frac{N}{m^2}=\\frac{kg}{m \\cdot s^2}})$\n",
        "* charge of electron: ${e = 1.602 \\times 10^{-19}}$ coulombs\n",
        "* electrical current: ampere, A (${c \\cdot s^{-1}}$)\n",
        "* electric potential: volt, V $({\\frac{potential\\:energy}{charge}=\\frac{J}{c}=\\frac{kg \\cdot m^{2}}{A \\cdot s^{3}}})$\n",
        "\n",
        "Energy can be expressed in numerous ways often suited to the problem at hand or area of inquiry:\n",
        "* energy: calorie (1 calorie = 4.184 J) Energy to warm 1 g of liquid water 1 $^{\\circ}$C.\n",
        "* energy: kcal (1 kcal = 1000 calorie = 4184 J)\n",
        "* energy: british thermal unit, btu (1 btu = 1055 J) amount of energy to raise the temperature of 1 pound of water 1 $^{\\circ}$F.\n",
        "***\n",
        "#### Prefixes\n",
        "These prefixes are added to s.i. units to change their order of magnitude. As an example we will use base unit of meter (m) below.\n",
        "\n",
        "|prefix | power of 10 | example|abreviation|\n",
        "|---|---|---|---|\n",
        "|pico|${10^{-12}}$|picometer |pm|\n",
        "|nano|${10^{-9}}$|nanometer |nm|\n",
        "|micro|${10^{-6}}$|micrometer |${\\mu}$m|\n",
        "|milli|${10^{-3}}$|millimeter |mm|\n",
        "|centi|${10^{-2}}$|centimeter |cm|\n",
        "|deci|${10^{-1}}$|decimeter |dm|\n",
        "|deca|${10^{+1}}$|decameter |dam|\n",
        "|hecta|${10^{+2}}$|hectameter |Hm|\n",
        "|kilo|${10^{+3}}$|kilometer |km|\n",
        "\n",
        "***\n",
        "####Physical Constants\n",
        "* Avogadro's number, ${N_A = 6.022 \\times 10^{23}\\frac{1}{mole}}$\n",
        "* speed of light, ${c = 2.99 792 458  \\times 10^{8} \\;m\\cdot s}$\n",
        "* Planck's Constant, ${h = 6.62607004 \\times 10^{-34} J\\cdot s}$\n",
        "***\n",
        "\n",
        "\n",
        "\n",
        "\n",
        "\n"
      ]
    },
    {
      "cell_type": "code",
      "metadata": {
        "id": "-KK1CVqbsKEM",
        "colab_type": "code",
        "outputId": "fb162ae6-1651-4d72-f411-c1fb5520a261",
        "colab": {
          "base_uri": "https://localhost:8080/",
          "height": 136
        }
      },
      "source": [
        "# Demonstration of use of constants in Python\n",
        "import scipy.constants as constants # Import latest constants CODATA 2018\n",
        "print(constants.pi)\n",
        "print(f\"Avogadros number: {constants.Avogadro:.5e} 1/mole\") # Use \"f\" formatting to print in scientific notation\n",
        "print(f\"Speed of light: {constants.c:.5e} m/s\") # Use \"f\" formatting to print in scientific notation format in m/s.\n",
        "print(f\"Planck's constant: {constants.h:.5e} J s\") \n",
        "print(f\"Electron mass: {constants.electron_mass:.5e} kg\") \n",
        "print(f\"Proton mass: {constants.proton_mass:.5e} kg\") \n",
        "print(f\"Atomic mass unit: {constants.atomic_mass:.5e} kg\") "
      ],
      "execution_count": 0,
      "outputs": [
        {
          "output_type": "stream",
          "text": [
            "3.141592653589793\n",
            "Avogadros number: 6.02214e+23 1/mole\n",
            "Speed of light: 2.99792e+08 m/s\n",
            "Planck's constant: 6.62607e-34 J s\n",
            "Electron mass: 9.10938e-31 kg\n",
            "Proton mass: 1.67262e-27 kg\n",
            "Atomic mass unit: 1.66054e-27 kg\n"
          ],
          "name": "stdout"
        }
      ]
    }
  ]
}