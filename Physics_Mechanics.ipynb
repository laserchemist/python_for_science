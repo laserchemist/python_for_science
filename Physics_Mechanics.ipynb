{
  "nbformat": 4,
  "nbformat_minor": 0,
  "metadata": {
    "colab": {
      "name": "Physics Mechanics.ipynb",
      "provenance": [],
      "collapsed_sections": [],
      "authorship_tag": "ABX9TyP1vfhpij8ieZxYwyh2t5m3",
      "include_colab_link": true
    },
    "kernelspec": {
      "name": "python3",
      "display_name": "Python 3"
    }
  },
  "cells": [
    {
      "cell_type": "markdown",
      "metadata": {
        "id": "view-in-github",
        "colab_type": "text"
      },
      "source": [
        "<a href=\"https://colab.research.google.com/github/laserchemist/python_for_science/blob/master/Physics_Mechanics.ipynb\" target=\"_parent\"><img src=\"https://colab.research.google.com/assets/colab-badge.svg\" alt=\"Open In Colab\"/></a>"
      ]
    },
    {
      "cell_type": "markdown",
      "metadata": {
        "id": "TqzL4o9Y367g",
        "colab_type": "text"
      },
      "source": [
        "## Newtonian Mechanics\n",
        "The classical motion of objects subject to forces are well described by [Newtonian mechanics](https://www.newton.ac.uk/about/isaac-newton/life). An object at rest remains at rest unless acted upon by a force which induces an acceleration.\n",
        "\n",
        "${F = mass \\cdot acceleration}$\n",
        "\n",
        "In the case where we consider an apple dropped as in [Newton's experiment](https://royalsocietypublishing.org/doi/pdf/10.1098/rsnr.1951.0003), the apple will experience the acceleration of gravity, g. If the apple has a mass of 75 g or 0.075 kg as is typical for a tasty apple we can compute the force.\n"
      ]
    },
    {
      "cell_type": "code",
      "metadata": {
        "id": "TCIbp-1B3BtZ",
        "colab_type": "code",
        "outputId": "a11de1fa-d0d0-4964-c370-aca17fa87250",
        "colab": {
          "base_uri": "https://localhost:8080/",
          "height": 51
        }
      },
      "source": [
        "import scipy.constants as constants\n",
        "import math\n",
        "print(f\"Acceleration of gravity (free fall): {constants.g:.4f} m s^-2\")\n",
        "applemass = 75 * 0.001 # Mass in kg of apple\n",
        "Force = applemass * constants.g\n",
        "print(f\"Force on 0.075 kg apple: {Force:.4f} N\")\n"
      ],
      "execution_count": 0,
      "outputs": [
        {
          "output_type": "stream",
          "text": [
            "Acceleration of gravity (free fall): 9.8066 m s^-2\n",
            "Force on 0.075 kg apple: 0.7355 N\n"
          ],
          "name": "stdout"
        }
      ]
    },
    {
      "cell_type": "markdown",
      "metadata": {
        "id": "nypHPwi68bWX",
        "colab_type": "text"
      },
      "source": [
        "If the apple is at a height of 6.0 m above the ground, answer the following questions.\n",
        "\n",
        "\n",
        "1.   What is the height 1 second after dropping the apple?\n",
        "2.   How long does it take to reach 5 cm above the ground?\n",
        "3.   How long until the apple reaches the ground?\n",
        "\n",
        "## Useful equations\n",
        "***\n",
        "${s=u\\cdot t +\\frac{1}{2}a\\cdot t^2 }$  \n",
        "where u is initial velocity, t is time (s), a is acceleration, and s is height in meters.\n",
        "\n",
        "${v^2=u^2+2 \\cdot a\\cdot s}$\n",
        "\n",
        "where u is initial velocity, a is acceleration, v is the velocity, and s is height in meters.\n",
        "\n",
        "${s = \\frac{u+v}{2}t}$\n",
        "\n"
      ]
    },
    {
      "cell_type": "code",
      "metadata": {
        "id": "aHg3CTzQ-9Nx",
        "colab_type": "code",
        "outputId": "4eb4f0ee-65d5-4260-ff66-02aded9b39ea",
        "colab": {
          "base_uri": "https://localhost:8080/",
          "height": 34
        }
      },
      "source": [
        "# Part 1\n",
        "u = 0\n",
        "t = 1\n",
        "a = constants.g\n",
        "s = u * t - 0.5 * a * t**2\n",
        "print(f\"After 1 second, the apple has moved {s:.3f} m downward\")"
      ],
      "execution_count": 0,
      "outputs": [
        {
          "output_type": "stream",
          "text": [
            "After 1 second, the apple has moved -4.903 m downward\n"
          ],
          "name": "stdout"
        }
      ]
    },
    {
      "cell_type": "code",
      "metadata": {
        "id": "1AdNN1Zi_Cpa",
        "colab_type": "code",
        "outputId": "c44ebcc6-caaa-4a2c-b14b-897ad69f7a39",
        "colab": {
          "base_uri": "https://localhost:8080/",
          "height": 51
        }
      },
      "source": [
        "s = 6.0 - 0.50 # 5 cm above ground\n",
        "v = math.sqrt(2*a*s)\n",
        "print(f\"Velocity at 50 cm above ground is {v:.3f} m s^-1\")\n",
        "# Given velocity and distance (m) we can find time since velocity is m s^-1\n",
        "vavg = 0.5 * v\n",
        "t = s / vavg \n",
        "# Under constant acceleration, average velocity is 1/2 of this velocity\n",
        "print(f\"Time to reach 50 cm above ground is {t:.2f} seconds\")"
      ],
      "execution_count": 0,
      "outputs": [
        {
          "output_type": "stream",
          "text": [
            "Velocity at 50 cm above ground is 10.386 m s^-1\n",
            "Time to reach 50 cm above ground is 1.06 seconds\n"
          ],
          "name": "stdout"
        }
      ]
    },
    {
      "cell_type": "code",
      "metadata": {
        "id": "u440oDoVFtuw",
        "colab_type": "code",
        "outputId": "6f71987c-ae47-4f22-aca4-72a7d6a095e4",
        "colab": {
          "base_uri": "https://localhost:8080/",
          "height": 51
        }
      },
      "source": [
        "s = 6.0  # At ground\n",
        "v = math.sqrt(2*a*s)\n",
        "print(f\"Velocity at 5 cm above ground is {v:.3f} m s^-1\")\n",
        "# Given velocity and distance (m) we can find time since velocity is m s^-1\n",
        "vavg = 0.5 * v\n",
        "t = s / vavg \n",
        "# Under constant acceleration, average velocity is 1/2 of this velocity\n",
        "print(f\"Time to reach ground is {t:.2f} seconds\")"
      ],
      "execution_count": 0,
      "outputs": [
        {
          "output_type": "stream",
          "text": [
            "Velocity at 5 cm above ground is 10.848 m s^-1\n",
            "Time to reach ground is 1.11 seconds\n"
          ],
          "name": "stdout"
        }
      ]
    }
  ]
}