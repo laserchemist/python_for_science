{
  "nbformat": 4,
  "nbformat_minor": 0,
  "metadata": {
    "colab": {
      "name": "Physics_Units.ipynb",
      "provenance": [],
      "collapsed_sections": []
    },
    "kernelspec": {
      "name": "python3",
      "display_name": "Python 3"
    },
    "widgets": {
      "application/vnd.jupyter.widget-state+json": {
        "d3f8c6bc56f84d4cb4a1593ca9f712be": {
          "model_module": "@jupyter-widgets/controls",
          "model_name": "VBoxModel",
          "state": {
            "_view_name": "VBoxView",
            "_dom_classes": [
              "widget-interact"
            ],
            "_model_name": "VBoxModel",
            "_view_module": "@jupyter-widgets/controls",
            "_model_module_version": "1.5.0",
            "_view_count": null,
            "_view_module_version": "1.5.0",
            "box_style": "",
            "layout": "IPY_MODEL_c6f8641e0e5e4aaeb156fb9dfb45f089",
            "_model_module": "@jupyter-widgets/controls",
            "children": [
              "IPY_MODEL_9cbbc1ead2ac42ea82fef38f9fcf34e7",
              "IPY_MODEL_44d2c53da1154aafa3fd30666c6df134"
            ]
          }
        },
        "c6f8641e0e5e4aaeb156fb9dfb45f089": {
          "model_module": "@jupyter-widgets/base",
          "model_name": "LayoutModel",
          "state": {
            "_view_name": "LayoutView",
            "grid_template_rows": null,
            "right": null,
            "justify_content": null,
            "_view_module": "@jupyter-widgets/base",
            "overflow": null,
            "_model_module_version": "1.2.0",
            "_view_count": null,
            "flex_flow": null,
            "width": null,
            "min_width": null,
            "border": null,
            "align_items": null,
            "bottom": null,
            "_model_module": "@jupyter-widgets/base",
            "top": null,
            "grid_column": null,
            "overflow_y": null,
            "overflow_x": null,
            "grid_auto_flow": null,
            "grid_area": null,
            "grid_template_columns": null,
            "flex": null,
            "_model_name": "LayoutModel",
            "justify_items": null,
            "grid_row": null,
            "max_height": null,
            "align_content": null,
            "visibility": null,
            "align_self": null,
            "height": null,
            "min_height": null,
            "padding": null,
            "grid_auto_rows": null,
            "grid_gap": null,
            "max_width": null,
            "order": null,
            "_view_module_version": "1.2.0",
            "grid_template_areas": null,
            "object_position": null,
            "object_fit": null,
            "grid_auto_columns": null,
            "margin": null,
            "display": null,
            "left": null
          }
        },
        "9cbbc1ead2ac42ea82fef38f9fcf34e7": {
          "model_module": "@jupyter-widgets/controls",
          "model_name": "FloatSliderModel",
          "state": {
            "_view_name": "FloatSliderView",
            "style": "IPY_MODEL_331abc09ab1548ffa00b97386c21e5b9",
            "_dom_classes": [],
            "description": "wavelength",
            "step": 0.1,
            "_model_name": "FloatSliderModel",
            "orientation": "horizontal",
            "max": 800,
            "_view_module": "@jupyter-widgets/controls",
            "_model_module_version": "1.5.0",
            "value": 800,
            "_view_count": null,
            "disabled": false,
            "_view_module_version": "1.5.0",
            "min": 300,
            "continuous_update": true,
            "readout_format": ".2f",
            "description_tooltip": null,
            "readout": true,
            "_model_module": "@jupyter-widgets/controls",
            "layout": "IPY_MODEL_e471db0a6a204608805b975976c87eb5"
          }
        },
        "44d2c53da1154aafa3fd30666c6df134": {
          "model_module": "@jupyter-widgets/output",
          "model_name": "OutputModel",
          "state": {
            "_view_name": "OutputView",
            "msg_id": "",
            "_dom_classes": [],
            "_model_name": "OutputModel",
            "outputs": [
              {
                "output_type": "display_data",
                "metadata": {
                  "tags": [],
                  "needs_background": "light"
                },
                "image/png": "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\n",
                "text/plain": "<Figure size 432x288 with 1 Axes>"
              }
            ],
            "_view_module": "@jupyter-widgets/output",
            "_model_module_version": "1.0.0",
            "_view_count": null,
            "_view_module_version": "1.0.0",
            "layout": "IPY_MODEL_b85048a8394f40c4b613d32e97c85367",
            "_model_module": "@jupyter-widgets/output"
          }
        },
        "331abc09ab1548ffa00b97386c21e5b9": {
          "model_module": "@jupyter-widgets/controls",
          "model_name": "SliderStyleModel",
          "state": {
            "_view_name": "StyleView",
            "handle_color": null,
            "_model_name": "SliderStyleModel",
            "description_width": "",
            "_view_module": "@jupyter-widgets/base",
            "_model_module_version": "1.5.0",
            "_view_count": null,
            "_view_module_version": "1.2.0",
            "_model_module": "@jupyter-widgets/controls"
          }
        },
        "e471db0a6a204608805b975976c87eb5": {
          "model_module": "@jupyter-widgets/base",
          "model_name": "LayoutModel",
          "state": {
            "_view_name": "LayoutView",
            "grid_template_rows": null,
            "right": null,
            "justify_content": null,
            "_view_module": "@jupyter-widgets/base",
            "overflow": null,
            "_model_module_version": "1.2.0",
            "_view_count": null,
            "flex_flow": null,
            "width": null,
            "min_width": null,
            "border": null,
            "align_items": null,
            "bottom": null,
            "_model_module": "@jupyter-widgets/base",
            "top": null,
            "grid_column": null,
            "overflow_y": null,
            "overflow_x": null,
            "grid_auto_flow": null,
            "grid_area": null,
            "grid_template_columns": null,
            "flex": null,
            "_model_name": "LayoutModel",
            "justify_items": null,
            "grid_row": null,
            "max_height": null,
            "align_content": null,
            "visibility": null,
            "align_self": null,
            "height": null,
            "min_height": null,
            "padding": null,
            "grid_auto_rows": null,
            "grid_gap": null,
            "max_width": null,
            "order": null,
            "_view_module_version": "1.2.0",
            "grid_template_areas": null,
            "object_position": null,
            "object_fit": null,
            "grid_auto_columns": null,
            "margin": null,
            "display": null,
            "left": null
          }
        },
        "b85048a8394f40c4b613d32e97c85367": {
          "model_module": "@jupyter-widgets/base",
          "model_name": "LayoutModel",
          "state": {
            "_view_name": "LayoutView",
            "grid_template_rows": null,
            "right": null,
            "justify_content": null,
            "_view_module": "@jupyter-widgets/base",
            "overflow": null,
            "_model_module_version": "1.2.0",
            "_view_count": null,
            "flex_flow": null,
            "width": null,
            "min_width": null,
            "border": null,
            "align_items": null,
            "bottom": null,
            "_model_module": "@jupyter-widgets/base",
            "top": null,
            "grid_column": null,
            "overflow_y": null,
            "overflow_x": null,
            "grid_auto_flow": null,
            "grid_area": null,
            "grid_template_columns": null,
            "flex": null,
            "_model_name": "LayoutModel",
            "justify_items": null,
            "grid_row": null,
            "max_height": null,
            "align_content": null,
            "visibility": null,
            "align_self": null,
            "height": null,
            "min_height": null,
            "padding": null,
            "grid_auto_rows": null,
            "grid_gap": null,
            "max_width": null,
            "order": null,
            "_view_module_version": "1.2.0",
            "grid_template_areas": null,
            "object_position": null,
            "object_fit": null,
            "grid_auto_columns": null,
            "margin": null,
            "display": null,
            "left": null
          }
        }
      }
    }
  },
  "cells": [
    {
      "cell_type": "markdown",
      "metadata": {
        "id": "p4CVTepLN4ZN",
        "colab_type": "text"
      },
      "source": [
        "#Physics and Physical Measurement\n",
        "\n",
        "#### 1. Units\n",
        "\n",
        "#### 2. Electromagnetic waves and light\n",
        "***\n",
        "Units are based off fundamental measures including:\n",
        "* length: meter (m)\n",
        "* time: second (s)\n",
        "* mass: kilogram (kg)\n",
        "* electric charge: coulomb (C)\n",
        "\n",
        "We can then derive:\n",
        "* velocity: meter/second (${m \\cdot s^{-1}}$)\n",
        "* acceleration: meter second${^{-2}}$ (${m \\cdot s^{-2}}$)\n",
        "* force: Newton, N (${kg \\cdot m \\cdot s^{-2}}$)\n",
        "* energy: Joule, J (${kg \\cdot m^{2} \\cdot s^{-2}}$)\n",
        "* power: Watt, W  ${(\\frac{J}{s}=\\frac{N \\cdot m}{s}=V \\cdot A)}$\n",
        "* pressure: Pascal, Pa ${(\\frac{N}{m^2}=\\frac{kg}{m \\cdot s^2}})$\n",
        "* charge of electron: ${e = 1.602 \\times 10^{-19}}$ coulombs\n",
        "* electrical current: ampere, A (${c \\cdot s^{-1}}$)\n",
        "* electric potential: volt, V $({\\frac{potential\\:energy}{charge}=\\frac{J}{c}=\\frac{kg \\cdot m^{2}}{A \\cdot s^{3}}})$\n",
        "\n",
        "Energy can be expressed in numerous ways often suited to the problem at hand or area of inquiry:\n",
        "* energy: calorie (1 calorie = 4.184 J) Energy to warm 1 g of liquid water 1 $^{\\circ}$C.\n",
        "* energy: kcal (1 kcal = 1000 calorie = 4184 J)\n",
        "* energy: british thermal unit, btu (1 btu = 1055 J) amount of energy to raise the temperature of 1 pound of water 1 $^{\\circ}$F.\n",
        "***\n",
        "#### Prefixes\n",
        "These prefixes are added to s.i. units to change their order of magnitude. As an example we will use base unit of meter (m) below.\n",
        "\n",
        "|prefix | power of 10 | example|abreviation|\n",
        "|---|---|---|---|\n",
        "|pico|${10^{-12}}$|picometer |pm|\n",
        "|nano|${10^{-9}}$|nanometer |nm|\n",
        "|micro|${10^{-6}}$|micrometer |${\\mu}$m|\n",
        "|milli|${10^{-3}}$|millimeter |mm|\n",
        "|centi|${10^{-2}}$|centimeter |cm|\n",
        "|deci|${10^{-1}}$|decimeter |dm|\n",
        "|deca|${10^{+1}}$|decameter |dam|\n",
        "|hecta|${10^{+2}}$|hectameter |Hm|\n",
        "|kilo|${10^{+3}}$|kilometer |km|\n",
        "\n",
        "***\n",
        "####Physical Constants\n",
        "* Avogadro's number, ${N_A = 6.022 \\times 10^{23}\\frac{1}{mole}}$\n",
        "* speed of light, ${c = 2.99 792 458  \\times 10^{8} \\;m\\cdot s}$\n",
        "* Planck's Constant, ${h = 6.62607004 \\times 10^{-34} J\\cdot s}$\n",
        "***\n",
        "\n",
        "\n",
        "\n",
        "\n",
        "\n"
      ]
    },
    {
      "cell_type": "code",
      "metadata": {
        "id": "-KK1CVqbsKEM",
        "colab_type": "code",
        "colab": {
          "base_uri": "https://localhost:8080/",
          "height": 136
        },
        "outputId": "785eb95c-6e8b-4f53-b9ed-362832c161a5"
      },
      "source": [
        "# Demonstration of use of constants in Python\n",
        "import scipy.constants as constants # Import latest constants CODATA 2018\n",
        "print(constants.pi)\n",
        "print(f\"Avogadros number: {constants.Avogadro:.5e} 1/mole\") # Use \"f\" formatting to print in scientific notation\n",
        "print(f\"Speed of light: {constants.c:.5e} m/s\") # Use \"f\" formatting to print in scientific notation format in m/s.\n",
        "print(f\"Planck's constant: {constants.h:.5e} J s\") \n",
        "print(f\"Electron mass: {constants.electron_mass:.5e} kg\") \n",
        "print(f\"Proton mass: {constants.proton_mass:.5e} kg\") \n",
        "print(f\"Atomic mass unit: {constants.atomic_mass:.5e} kg\") "
      ],
      "execution_count": null,
      "outputs": [
        {
          "output_type": "stream",
          "text": [
            "3.141592653589793\n",
            "Avogadros number: 6.02214e+23 1/mole\n",
            "Speed of light: 2.99792e+08 m/s\n",
            "Planck's constant: 6.62607e-34 J s\n",
            "Electron mass: 9.10938e-31 kg\n",
            "Proton mass: 1.67262e-27 kg\n",
            "Atomic mass unit: 1.66054e-27 kg\n"
          ],
          "name": "stdout"
        }
      ]
    },
    {
      "cell_type": "markdown",
      "metadata": {
        "id": "7pEsQwUvlBm4",
        "colab_type": "text"
      },
      "source": [
        "###Examples using above constants in calculations in Python"
      ]
    },
    {
      "cell_type": "code",
      "metadata": {
        "id": "LNXW6JHdk_mU",
        "colab_type": "code",
        "colab": {
          "base_uri": "https://localhost:8080/",
          "height": 51
        },
        "outputId": "d3d3077d-9869-4e56-f31f-3c728c124763"
      },
      "source": [
        "massCO2 = 12.011*constants.atomic_mass + 2*15.994*constants.atomic_mass\n",
        "print(f\"Mass of single CO2 molecule: {massCO2:.3e} kg\\nMass of one mole of CO2 molecules: {massCO2*constants.Avogadro:.3f} kg\")"
      ],
      "execution_count": null,
      "outputs": [
        {
          "output_type": "stream",
          "text": [
            "Mass of single CO2 molecule: 7.306e-26 kg\n",
            "Mass of one mole of CO2 molecules: 0.044 kg\n"
          ],
          "name": "stdout"
        }
      ]
    },
    {
      "cell_type": "markdown",
      "metadata": {
        "id": "5LV2vo608NF1",
        "colab_type": "text"
      },
      "source": [
        "### Further calculations\n",
        "***\n",
        "#### Electromagnetic radiation\n",
        "Light propagates through space at the speed of light as an electromagnetic wave. This wave has an oscillating electrical and magnetic components at right angles. The rate of oscillation is the frequency and the distance betweeen peaks in the oscillating wave is the wavelength. Visible light has a wavelength between 400 nanometer and 800 nanometer (nm). The relationship between wavelength ${(\\lambda)}$ and frequency ${(\\nu)}$ is:\n",
        "\n",
        "${\\nu=}\\frac{c}{\\lambda}$\n",
        "\n",
        "What is the frequency of a green $\\color{green}{532\\; nm}$ light wave?\n",
        "***\n"
      ]
    },
    {
      "cell_type": "code",
      "metadata": {
        "id": "EMZCj_kFMK93",
        "colab_type": "code",
        "colab": {
          "base_uri": "https://localhost:8080/",
          "height": 51
        },
        "outputId": "f2f60b05-265b-4909-9316-b085f4a542d1"
      },
      "source": [
        "nu = constants.c /(532 * 10**(-9))\n",
        "print(f\"Wave property 532 nm\\nFrequency (s^-1): {nu:.4e}\")"
      ],
      "execution_count": null,
      "outputs": [
        {
          "output_type": "stream",
          "text": [
            "Wave property 532 nm\n",
            "Frequency (s^-1): 5.6352e+14\n"
          ],
          "name": "stdout"
        }
      ]
    },
    {
      "cell_type": "markdown",
      "metadata": {
        "id": "cfm5s4NXMVbn",
        "colab_type": "text"
      },
      "source": [
        "####Wavelength"
      ]
    },
    {
      "cell_type": "code",
      "metadata": {
        "id": "FIEybchMMdrH",
        "colab_type": "code",
        "colab": {
          "base_uri": "https://localhost:8080/",
          "height": 309
        },
        "outputId": "911575e7-da80-4e50-9428-db513d42a378"
      },
      "source": [
        "import matplotlib.pyplot as plot # Plot library\n",
        "import numpy as np # Vector and matrix math library\n",
        "xm = np.linspace(0,1000,100)\n",
        "wave1 = np.sin(2*np.pi*xm * 1/532)\n",
        "wave2 = np.sin(2*np.pi*xm * 1/700)\n",
        "fig,axs=plot.subplots(2,1)\n",
        "axs[0].plot(xm,wave1, 'g', label='532 nm')\n",
        "axs[1].plot(xm,wave2, 'r', label='700 nm')\n",
        "axs[1].set_xlabel('nm')\n",
        "for p in axs: # Decorate plot for easier interpretation\n",
        "  p.grid(b=True, color='yellow', alpha=0.3, linestyle='-.', linewidth=2)\n",
        "  p.minorticks_on()\n",
        "  p.grid(b=True, which='minor', color='beige', alpha=0.8, ls='-', lw=1)\n",
        "fig.legend()\n",
        "fig.show()"
      ],
      "execution_count": null,
      "outputs": [
        {
          "output_type": "display_data",
          "data": {
            "image/png": "[encoded data removed]",
            "text/plain": [
              "<Figure size 432x288 with 2 Axes>"
            ]
          },
          "metadata": {
            "tags": [],
            "needs_background": "light"
          }
        }
      ]
    },
    {
      "cell_type": "code",
      "metadata": {
        "id": "fpsTqXOFKpX0",
        "colab_type": "code",
        "colab": {
          "base_uri": "https://localhost:8080/",
          "height": 311,
          "referenced_widgets": [
            "d3f8c6bc56f84d4cb4a1593ca9f712be",
            "c6f8641e0e5e4aaeb156fb9dfb45f089",
            "9cbbc1ead2ac42ea82fef38f9fcf34e7",
            "44d2c53da1154aafa3fd30666c6df134",
            "331abc09ab1548ffa00b97386c21e5b9",
            "e471db0a6a204608805b975976c87eb5",
            "b85048a8394f40c4b613d32e97c85367"
          ]
        },
        "outputId": "58479851-462a-4287-e046-55e3de60a291"
      },
      "source": [
        "# Interactive wavelength plot\n",
        "import ipywidgets as widgets\n",
        "xm = np.linspace(start=0,stop=1000,num=100)\n",
        "def plotfunc(wavelength):\n",
        "  wave = np.sin(2*np.pi*xm * 1/wavelength)\n",
        "  plot.plot(xm,wave,'b',label=wavelength)\n",
        "  plot.grid(b=True, color='yellow', alpha=0.3, linestyle='-.', linewidth=2)\n",
        "  plot.minorticks_on()\n",
        "  plot.grid(b=True, which='minor', color='beige', alpha=0.8, ls='-', lw=1)\n",
        "  plot.legend()\n",
        "  plot.xlabel('nm')\n",
        "widgets.interact(plotfunc, wavelength=widgets.FloatSlider(min=300, max=800, step=0.1, value=532));"
      ],
      "execution_count": null,
      "outputs": [
        {
          "output_type": "display_data",
          "data": {
            "application/vnd.jupyter.widget-view+json": {
              "model_id": "d3f8c6bc56f84d4cb4a1593ca9f712be",
              "version_minor": 0,
              "version_major": 2
            },
            "text/plain": [
              "interactive(children=(FloatSlider(value=532.0, description='wavelength', max=800.0, min=300.0), Output()), _do…"
            ]
          },
          "metadata": {
            "tags": []
          }
        }
      ]
    },
    {
      "cell_type": "markdown",
      "metadata": {
        "id": "iEvdl87EMLpt",
        "colab_type": "text"
      },
      "source": [
        "#### Particle-wave duality\n",
        "The above wave theory of light explains many physical observations and phenomona and thus is a good model for describing these properties of light. However, there are some observations which are not consistent with the wave theory including the photoelectric effect where light with a frequency higher than a threshold can knock electrons from the surface of a metal. This occurs above the threshold frequency for any intensity of light but below the threshold frequency even intense light will not knock out a single electron. This can only explain as Einstein did in a 1905 paper as light having a particle manifestation labelled as a $\\color{blue}{photon}$ with energy proportional to the frequency and inversely proportional to the wavelength. This 1905 paper earned Einstein the [1921 Nobel prize](https://www.nobelprize.org/prizes/physics/1921/summary/) in physics.\n",
        "\n",
        "${E_{photon}=}\\frac{h \\cdot c}{\\lambda}$"
      ]
    },
    {
      "cell_type": "code",
      "metadata": {
        "id": "0FDbo7woAIrt",
        "colab_type": "code",
        "colab": {
          "base_uri": "https://localhost:8080/",
          "height": 153
        },
        "outputId": "e736535c-f58a-4c63-cc58-34d4504bd015"
      },
      "source": [
        "nu = constants.c /(532 * 10**(-9))\n",
        "print(f\"Wave property 532 nm\\nFrequency (s^-1): {nu:.4e}\")\n",
        "#\n",
        "## Compute photon energy of 532 nm in Joules\n",
        "E = constants.h * constants.c /(532 * 10**(-9))\n",
        "print(f\"\\nParticle property 532 nm\\nPhoton energy for a {nu:.4e} s^-1 frequency photon: {E:.4e} (J) \")\n",
        "## Compute photon energy of 700 nm in Joules\n",
        "nu = constants.c /(700 * 10**(-9))\n",
        "E = constants.h * constants.c /(700 * 10**(-9))\n",
        "print(f\"\\nParticle property 700 nm\\nPhoton energy for a {nu:.4e} s^-1 frequency photon: {E:.4e} (J) \")"
      ],
      "execution_count": null,
      "outputs": [
        {
          "output_type": "stream",
          "text": [
            "Wave property 532 nm\n",
            "Frequency (s^-1): 5.6352e+14\n",
            "\n",
            "Particle property 532 nm\n",
            "Photon energy for a 5.6352e+14 s^-1 frequency photon: 3.7339e-19 (J) \n",
            "\n",
            "Particle property 700 nm\n",
            "Photon energy for a 4.2827e+14 s^-1 frequency photon: 2.8378e-19 (J) \n"
          ],
          "name": "stdout"
        }
      ]
    }
  ]
}