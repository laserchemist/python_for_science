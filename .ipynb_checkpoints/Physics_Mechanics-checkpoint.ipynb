{
 "cells": [
  {
   "cell_type": "markdown",
   "metadata": {
    "colab_type": "text",
    "id": "TqzL4o9Y367g"
   },
   "source": [
    "## Newtonian Mechanics\n",
    "The classical motion of objects subject to forces are well described by [Newtonian mechanics](https://www.newton.ac.uk/about/isaac-newton/life). An object at rest remains at rest unless acted upon by a force which induces an acceleration.\n",
    "\n",
    "${F = mass \\cdot acceleration}$\n",
    "\n",
    "In the case where we consider an apple dropped as in [Newton's experiment](https://royalsocietypublishing.org/doi/pdf/10.1098/rsnr.1951.0003), the apple will experience the acceleration of gravity, g. If the apple has a mass of 75 g or 0.075 kg as is typical for a tasty apple we can compute the force.\n"
   ]
  },
  {
   "cell_type": "code",
   "execution_count": 1,
   "metadata": {
    "colab": {
     "base_uri": "https://localhost:8080/",
     "height": 51
    },
    "colab_type": "code",
    "id": "TCIbp-1B3BtZ",
    "outputId": "87b89464-a6ae-475e-964c-c9ddb9adac02"
   },
   "outputs": [
    {
     "name": "stdout",
     "output_type": "stream",
     "text": [
      "Acceleration of gravity (free fall): 9.8066 m s^-2\n",
      "Force on 0.075 kg apple: 0.7355 N\n"
     ]
    }
   ],
   "source": [
    "import scipy.constants as constants\n",
    "import math\n",
    "print(f\"Acceleration of gravity (free fall): {constants.g:.4f} m s^-2\")\n",
    "applemass = 75 * 0.001 # Mass in kg of apple\n",
    "Force = applemass * constants.g\n",
    "print(f\"Force on 0.075 kg apple: {Force:.4f} N\")\n"
   ]
  },
  {
   "cell_type": "markdown",
   "metadata": {
    "colab_type": "text",
    "id": "nypHPwi68bWX"
   },
   "source": [
    "If the apple is at a height of 6.0 m above the ground, answer the following questions.\n",
    "\n",
    "\n",
    "1.   What is the height 1 second after dropping the apple?\n",
    "2.   How long does it take to reach 5 cm above the ground?\n",
    "3.   How long until the apple reaches the ground?\n",
    "\n",
    "## Useful equations\n",
    "***\n",
    "${s=u\\cdot t +\\frac{1}{2}a\\cdot t^2 }$  \n",
    "where u is initial velocity, t is time (s), a is acceleration, and s is height in meters.\n",
    "\n",
    "${v^2=u^2+2 \\cdot a\\cdot s}$\n",
    "\n",
    "where u is initial velocity, a is acceleration, v is the velocity, and s is height in meters.\n",
    "\n",
    "${s = \\frac{u+v}{2}t}$\n",
    "\n"
   ]
  },
  {
   "cell_type": "code",
   "execution_count": 2,
   "metadata": {
    "colab": {
     "base_uri": "https://localhost:8080/",
     "height": 34
    },
    "colab_type": "code",
    "id": "aHg3CTzQ-9Nx",
    "outputId": "4eb4f0ee-65d5-4260-ff66-02aded9b39ea"
   },
   "outputs": [
    {
     "name": "stdout",
     "output_type": "stream",
     "text": [
      "After 1 second, the apple has moved -4.903 m downward\n"
     ]
    }
   ],
   "source": [
    "# Part 1\n",
    "u = 0\n",
    "t = 1\n",
    "a = constants.g\n",
    "s = u * t - 0.5 * a * t**2\n",
    "print(f\"After 1 second, the apple has moved {s:.3f} m downward\")"
   ]
  },
  {
   "cell_type": "code",
   "execution_count": 3,
   "metadata": {
    "colab": {
     "base_uri": "https://localhost:8080/",
     "height": 51
    },
    "colab_type": "code",
    "id": "1AdNN1Zi_Cpa",
    "outputId": "c44ebcc6-caaa-4a2c-b14b-897ad69f7a39"
   },
   "outputs": [
    {
     "name": "stdout",
     "output_type": "stream",
     "text": [
      "Velocity at 50 cm above ground is 10.386 m s^-1\n",
      "Time to reach 50 cm above ground is 1.06 seconds\n"
     ]
    }
   ],
   "source": [
    "s = 6.0 - 0.50 # 5 cm above ground\n",
    "v = math.sqrt(2*a*s)\n",
    "print(f\"Velocity at 50 cm above ground is {v:.3f} m s^-1\")\n",
    "# Given velocity and distance (m) we can find time since velocity is m s^-1\n",
    "vavg = 0.5 * v\n",
    "t = s / vavg \n",
    "# Under constant acceleration, average velocity is 1/2 of this velocity\n",
    "print(f\"Time to reach 50 cm above ground is {t:.2f} seconds\")"
   ]
  },
  {
   "cell_type": "code",
   "execution_count": 4,
   "metadata": {
    "colab": {
     "base_uri": "https://localhost:8080/",
     "height": 51
    },
    "colab_type": "code",
    "id": "u440oDoVFtuw",
    "outputId": "6f71987c-ae47-4f22-aca4-72a7d6a095e4"
   },
   "outputs": [
    {
     "name": "stdout",
     "output_type": "stream",
     "text": [
      "Velocity at 5 cm above ground is 10.848 m s^-1\n",
      "Time to reach ground is 1.11 seconds\n"
     ]
    }
   ],
   "source": [
    "s = 6.0  # At ground\n",
    "v = math.sqrt(2*a*s)\n",
    "print(f\"Velocity at 5 cm above ground is {v:.3f} m s^-1\")\n",
    "# Given velocity and distance (m) we can find time since velocity is m s^-1\n",
    "vavg = 0.5 * v\n",
    "t = s / vavg \n",
    "# Under constant acceleration, average velocity is 1/2 of this velocity\n",
    "print(f\"Time to reach ground is {t:.2f} seconds\")"
   ]
  },
  {
   "cell_type": "markdown",
   "metadata": {
    "colab_type": "text",
    "id": "Y5oF1OET5Q9b"
   },
   "source": [
    "### Apple trajectory\n",
    "We will now investigate the apples position as a function of time.\n"
   ]
  },
  {
   "cell_type": "code",
   "execution_count": 6,
   "metadata": {
    "colab": {
     "base_uri": "https://localhost:8080/",
     "height": 296,
     "referenced_widgets": [
      "6e5dfee79a9947b4ae00134d9276eba3",
      "7cdbbd456b22408b876d5c7e102543e3",
      "92a0c592e18b4c9da2ceda76267f4a96",
      "76473bffb717406bb5ca4b40b59ae589",
      "7bd3dd3b32fe4dfd85801bf70337b4ac",
      "055ceca283eb45bab0266629dc0eaebd",
      "2329ec515dc84d979ded7c743de3e0d0"
     ]
    },
    "colab_type": "code",
    "id": "gC2WKTeKAqll",
    "outputId": "302ac97e-334c-4f03-f9c0-fdab5db0a158"
   },
   "outputs": [
    {
     "name": "stdout",
     "output_type": "stream",
     "text": [
      "Startheight: 6.0 meter \n"
     ]
    },
    {
     "data": {
      "image/png": "[encoded data removed]",
      "text/plain": [
       "<Figure size 432x288 with 1 Axes>"
      ]
     },
     "metadata": {
      "needs_background": "light"
     },
     "output_type": "display_data"
    }
   ],
   "source": [
    "# Interactive wavelength plot\n",
    "import matplotlib.pyplot as plot # Plotting package\n",
    "import ipywidgets as widgets\n",
    "import numpy as np\n",
    "def plotfunc(startheight):\n",
    "  print(f\"Startheight: {startheight} meter \")\n",
    "  xtime = np.linspace(start=0,stop=10,num=100)\n",
    "  xint = np.arange(0,10)\n",
    "  plot.plot(xtime,height(xtime,startheight),'b',label='Initial height: '+str(startheight))\n",
    "  plot.scatter(xint,height(xint,startheight),c='coral', s=120, alpha=0.1)\n",
    "  plot.grid(b=True, color='yellow', alpha=0.3, linestyle='-.', linewidth=2)\n",
    "  plot.ylim(0,startheight*1.10)\n",
    "  plot.xlim(0,10)\n",
    "  plot.minorticks_on()\n",
    "  plot.grid(b=True, which='minor', color='beige', alpha=0.8, ls='-', lw=1)\n",
    "  plot.legend()\n",
    "  plot.xlabel('time (seconds)')\n",
    "def height(time, sheight, u=0): # Using above equation for height\n",
    "     return (sheight - (u*time + 1/2 * constants.g * np.power(time,2)))\n",
    "widgets.interact(plotfunc, startheight=widgets.FloatSlider(min=1, max=200, step=0.1, value=6));\n",
    "\n"
   ]
  },
  {
   "cell_type": "code",
   "execution_count": null,
   "metadata": {},
   "outputs": [],
   "source": []
  }
 ],
 "metadata": {
  "colab": {
   "authorship_tag": "ABX9TyNkHFheoRP+ao51/SqCHjjQ",
   "collapsed_sections": [],
   "mount_file_id": "1xbWdPALIoN1ip5CXEW9_6fj78Tkgtfil",
   "name": "Physics Mechanics.ipynb",
   "provenance": [],
   "toc_visible": true
  },
  "kernelspec": {
   "display_name": "Python 3",
   "language": "python",
   "name": "python3"
  },
  "language_info": {
   "codemirror_mode": {
    "name": "ipython",
    "version": 3
   },
   "file_extension": ".py",
   "mimetype": "text/x-python",
   "name": "python",
   "nbconvert_exporter": "python",
   "pygments_lexer": "ipython3",
   "version": "3.7.7"
  },
  "widgets": {
   "application/vnd.jupyter.widget-state+json": {
    "055ceca283eb45bab0266629dc0eaebd": {
     "model_module": "@jupyter-widgets/base",
     "model_name": "LayoutModel",
     "state": {
      "_model_module": "@jupyter-widgets/base",
      "_model_module_version": "1.2.0",
      "_model_name": "LayoutModel",
      "_view_count": null,
      "_view_module": "@jupyter-widgets/base",
      "_view_module_version": "1.2.0",
      "_view_name": "LayoutView",
      "align_content": null,
      "align_items": null,
      "align_self": null,
      "border": null,
      "bottom": null,
      "display": null,
      "flex": null,
      "flex_flow": null,
      "grid_area": null,
      "grid_auto_columns": null,
      "grid_auto_flow": null,
      "grid_auto_rows": null,
      "grid_column": null,
      "grid_gap": null,
      "grid_row": null,
      "grid_template_areas": null,
      "grid_template_columns": null,
      "grid_template_rows": null,
      "height": null,
      "justify_content": null,
      "justify_items": null,
      "left": null,
      "margin": null,
      "max_height": null,
      "max_width": null,
      "min_height": null,
      "min_width": null,
      "object_fit": null,
      "object_position": null,
      "order": null,
      "overflow": null,
      "overflow_x": null,
      "overflow_y": null,
      "padding": null,
      "right": null,
      "top": null,
      "visibility": null,
      "width": null
     }
    },
    "2329ec515dc84d979ded7c743de3e0d0": {
     "model_module": "@jupyter-widgets/base",
     "model_name": "LayoutModel",
     "state": {
      "_model_module": "@jupyter-widgets/base",
      "_model_module_version": "1.2.0",
      "_model_name": "LayoutModel",
      "_view_count": null,
      "_view_module": "@jupyter-widgets/base",
      "_view_module_version": "1.2.0",
      "_view_name": "LayoutView",
      "align_content": null,
      "align_items": null,
      "align_self": null,
      "border": null,
      "bottom": null,
      "display": null,
      "flex": null,
      "flex_flow": null,
      "grid_area": null,
      "grid_auto_columns": null,
      "grid_auto_flow": null,
      "grid_auto_rows": null,
      "grid_column": null,
      "grid_gap": null,
      "grid_row": null,
      "grid_template_areas": null,
      "grid_template_columns": null,
      "grid_template_rows": null,
      "height": null,
      "justify_content": null,
      "justify_items": null,
      "left": null,
      "margin": null,
      "max_height": null,
      "max_width": null,
      "min_height": null,
      "min_width": null,
      "object_fit": null,
      "object_position": null,
      "order": null,
      "overflow": null,
      "overflow_x": null,
      "overflow_y": null,
      "padding": null,
      "right": null,
      "top": null,
      "visibility": null,
      "width": null
     }
    },
    "6e5dfee79a9947b4ae00134d9276eba3": {
     "model_module": "@jupyter-widgets/controls",
     "model_name": "VBoxModel",
     "state": {
      "_dom_classes": [
       "widget-interact"
      ],
      "_model_module": "@jupyter-widgets/controls",
      "_model_module_version": "1.5.0",
      "_model_name": "VBoxModel",
      "_view_count": null,
      "_view_module": "@jupyter-widgets/controls",
      "_view_module_version": "1.5.0",
      "_view_name": "VBoxView",
      "box_style": "",
      "children": [
       "IPY_MODEL_92a0c592e18b4c9da2ceda76267f4a96",
       "IPY_MODEL_76473bffb717406bb5ca4b40b59ae589"
      ],
      "layout": "IPY_MODEL_7cdbbd456b22408b876d5c7e102543e3"
     }
    },
    "76473bffb717406bb5ca4b40b59ae589": {
     "model_module": "@jupyter-widgets/output",
     "model_name": "OutputModel",
     "state": {
      "_dom_classes": [],
      "_model_module": "@jupyter-widgets/output",
      "_model_module_version": "1.0.0",
      "_model_name": "OutputModel",
      "_view_count": null,
      "_view_module": "@jupyter-widgets/output",
      "_view_module_version": "1.0.0",
      "_view_name": "OutputView",
      "layout": "IPY_MODEL_2329ec515dc84d979ded7c743de3e0d0",
      "msg_id": "",
      "outputs": [
       {
        "metadata": {
         "tags": []
        },
        "output_type": "stream",
        "stream": "stdout",
        "text": "Startheight: 42.8 meter \n"
       },
       {
        "image/png": "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\n",
        "metadata": {
         "needs_background": "light",
         "tags": []
        },
        "output_type": "display_data",
        "text/plain": "<Figure size 432x288 with 1 Axes>"
       }
      ]
     }
    },
    "7bd3dd3b32fe4dfd85801bf70337b4ac": {
     "model_module": "@jupyter-widgets/controls",
     "model_name": "SliderStyleModel",
     "state": {
      "_model_module": "@jupyter-widgets/controls",
      "_model_module_version": "1.5.0",
      "_model_name": "SliderStyleModel",
      "_view_count": null,
      "_view_module": "@jupyter-widgets/base",
      "_view_module_version": "1.2.0",
      "_view_name": "StyleView",
      "description_width": "",
      "handle_color": null
     }
    },
    "7cdbbd456b22408b876d5c7e102543e3": {
     "model_module": "@jupyter-widgets/base",
     "model_name": "LayoutModel",
     "state": {
      "_model_module": "@jupyter-widgets/base",
      "_model_module_version": "1.2.0",
      "_model_name": "LayoutModel",
      "_view_count": null,
      "_view_module": "@jupyter-widgets/base",
      "_view_module_version": "1.2.0",
      "_view_name": "LayoutView",
      "align_content": null,
      "align_items": null,
      "align_self": null,
      "border": null,
      "bottom": null,
      "display": null,
      "flex": null,
      "flex_flow": null,
      "grid_area": null,
      "grid_auto_columns": null,
      "grid_auto_flow": null,
      "grid_auto_rows": null,
      "grid_column": null,
      "grid_gap": null,
      "grid_row": null,
      "grid_template_areas": null,
      "grid_template_columns": null,
      "grid_template_rows": null,
      "height": null,
      "justify_content": null,
      "justify_items": null,
      "left": null,
      "margin": null,
      "max_height": null,
      "max_width": null,
      "min_height": null,
      "min_width": null,
      "object_fit": null,
      "object_position": null,
      "order": null,
      "overflow": null,
      "overflow_x": null,
      "overflow_y": null,
      "padding": null,
      "right": null,
      "top": null,
      "visibility": null,
      "width": null
     }
    },
    "92a0c592e18b4c9da2ceda76267f4a96": {
     "model_module": "@jupyter-widgets/controls",
     "model_name": "FloatSliderModel",
     "state": {
      "_dom_classes": [],
      "_model_module": "@jupyter-widgets/controls",
      "_model_module_version": "1.5.0",
      "_model_name": "FloatSliderModel",
      "_view_count": null,
      "_view_module": "@jupyter-widgets/controls",
      "_view_module_version": "1.5.0",
      "_view_name": "FloatSliderView",
      "continuous_update": true,
      "description": "startheight",
      "description_tooltip": null,
      "disabled": false,
      "layout": "IPY_MODEL_055ceca283eb45bab0266629dc0eaebd",
      "max": 200,
      "min": 1,
      "orientation": "horizontal",
      "readout": true,
      "readout_format": ".2f",
      "step": 0.1,
      "style": "IPY_MODEL_7bd3dd3b32fe4dfd85801bf70337b4ac",
      "value": 94.1
     }
    }
   }
  }
 },
 "nbformat": 4,
 "nbformat_minor": 4
}
